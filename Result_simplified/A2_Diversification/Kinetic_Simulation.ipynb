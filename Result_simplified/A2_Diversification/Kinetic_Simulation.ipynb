{
 "cells": [
  {
   "cell_type": "markdown",
   "id": "pressed-interim",
   "metadata": {},
   "source": [
    "## Import necessary modules\n",
    "\n",
    "Every Jupyter Notebook requires the path to the KineticAssembly_AD modules (.py files in the root directory) to be mentioned. This can be done by adding the path to the 'PATH' variable of the system environment. \n",
    "\n",
    "Additonal modules are also imported which are required to run any analysis."
   ]
  },
  {
   "cell_type": "code",
   "execution_count": 1,
   "id": "efcef298",
   "metadata": {},
   "outputs": [],
   "source": [
    "# make sure jupyter path is correct for loading local moudules\n",
    "import sys\n",
    "path_to_repo=\"C:\\\\Users\\\\denys\\\\AMGEN\\\\\"     \n",
    "sys.path.append(path_to_repo)\n",
    "\n",
    "\n",
    "import copy\n",
    "from KineticAssembly_AD import ReactionNetwork, VectorizedRxnNet, VecSim    #Import required python modules explicitly\n",
    "import networkx as nx\n",
    "import torch\n",
    "from torch import DoubleTensor as Tensor"
   ]
  },
  {
   "cell_type": "markdown",
   "id": "generic-phone",
   "metadata": {},
   "source": [
    "## Change base_input to your mer of interest below\n",
    "\n",
    "## Setup Reaction Network\n",
    "Before we begin to run a simulation, we need to create a Reaction Network that stores all the parameters required to run a simulation and other routines. The Reaction Network can be created by reading an input file. More information on how to create an input file can be found in the User Guide. \n",
    "\n",
    "#### Read the corresponding input file and call the ReactionNetwork class"
   ]
  },
  {
   "cell_type": "code",
   "execution_count": 2,
   "id": "1c1a4dd8",
   "metadata": {},
   "outputs": [
    {
     "name": "stdout",
     "output_type": "stream",
     "text": [
      "['default_assoc', 1.0]\n",
      "['rxn_coupling', True]\n",
      "True\n",
      "['monomer_add_only', False]\n",
      "[(0, {'struct': <networkx.classes.graph.Graph object at 0x00000204237A3EF0>, 'copies': tensor([100.], dtype=torch.float64), 'subunits': 1}), (1, {'struct': <networkx.classes.graph.Graph object at 0x000002042301E860>, 'copies': tensor([100.], dtype=torch.float64), 'subunits': 1}), (2, {'struct': <networkx.classes.graph.Graph object at 0x00000204236815F8>, 'copies': tensor([100.], dtype=torch.float64), 'subunits': 1}), (3, {'struct': <networkx.classes.graph.Graph object at 0x0000020423681668>, 'copies': tensor([100.], dtype=torch.float64), 'subunits': 1})]\n",
      "New node added - Node index: 4 ; Node label: AM \n",
      "New node added - Node index: 5 ; Node label: AB \n",
      "New node added - Node index: 6 ; Node label: AS \n",
      "New node added - Node index: 7 ; Node label: BM \n",
      "New node added - Node index: 8 ; Node label: MS \n",
      "New node added - Node index: 9 ; Node label: ABM \n",
      "New node added - Node index: 10 ; Node label: AMS \n",
      "New node added - Node index: 11 ; Node label: BS \n",
      "New node added - Node index: 12 ; Node label: ABS \n",
      "New node added - Node index: 13 ; Node label: BMS \n",
      "New node added - Node index: 14 ; Node label: ABMS \n",
      "The number of bonds formed are not compensated by the number of edges\n",
      "This could be possible due to presence of a repeating subunit\n",
      "SOurce1:  2 10\n",
      "The common reactant is:  B\n",
      "Edge added between:  2 14\n",
      "The number of bonds formed are not compensated by the number of edges\n",
      "This could be possible due to presence of a repeating subunit\n",
      "SOurce1:  3 9\n",
      "The common reactant is:  S\n",
      "Edge added between:  3 14\n",
      "The number of bonds formed are not compensated by the number of edges\n",
      "This could be possible due to presence of a repeating subunit\n",
      "SOurce1:  4 11\n",
      "The number of bonds formed are not compensated by the number of edges\n",
      "This could be possible due to presence of a repeating subunit\n",
      "SOurce1:  5 8\n",
      "The number of bonds formed are not compensated by the number of edges\n",
      "This could be possible due to presence of a repeating subunit\n",
      "SOurce1:  6 7\n",
      "The number of bonds formed are not compensated by the number of edges\n",
      "This could be possible due to presence of a repeating subunit\n",
      "SOurce1:  12 1\n",
      "The common reactant is:  M\n",
      "Edge added between:  1 14\n",
      "The number of bonds formed are not compensated by the number of edges\n",
      "This could be possible due to presence of a repeating subunit\n",
      "SOurce1:  13 0\n",
      "The common reactant is:  A\n",
      "Edge added between:  0 14\n",
      "Coupling Reaction ID:  {5: [0, 3], 6: [0, 4], 8: [1, 3], 9: [1, 7], 10: [3, 7], 11: [1, 3, 7], 12: [2, 4], 13: [2, 7], 14: [4, 7], 15: [2, 4, 7], 16: [1, 2, 3, 4], 17: [0, 2, 3, 7], 18: [0, 1, 4, 7], 19: [0, 1], 20: [0, 2], 21: [1, 2], 22: [3, 4], 23: [0, 3, 4], 24: [0, 1, 2]}\n",
      "Reaction Network Completed\n"
     ]
    }
   ],
   "source": [
    "base_input = './tetramer_diversification.pwr'\n",
    "rn = ReactionNetwork(base_input, one_step=True)\n",
    "rn.resolve_tree()"
   ]
  },
  {
   "cell_type": "markdown",
   "id": "preliminary-nevada",
   "metadata": {},
   "source": [
    "## Checking reaction network\n",
    "\n",
    "The ReactionNetwork is a networkx object which creates a graph network with each node as species that can be present in the system according to the binding rules given in the input file. Each node has a unique index number that can be used to access attributes stored for that species. Each edge represents a reaction and is associated with a unique reaction_id, on and off rates and the dG value for that reaction.\n",
    "\n",
    "\n",
    "After creating a Reaction Network we can looping over all network nodes to check if all species are created\n",
    "Creating a dictionary for later reference. This dictionary holds the reactants as keys and values as the reaction index"
   ]
  },
  {
   "cell_type": "code",
   "execution_count": 3,
   "id": "bf4082db",
   "metadata": {},
   "outputs": [
    {
     "name": "stdout",
     "output_type": "stream",
     "text": [
      "Species present in the Reaction Network: \n",
      "Index  --  Species\n",
      "  0    --  A     \n",
      "  1    --  M     \n",
      "  2    --  B     \n",
      "  3    --  S     \n",
      "  4    --  AM    \n",
      "  5    --  AB    \n",
      "  6    --  AS    \n",
      "  7    --  BM    \n",
      "  8    --  MS    \n",
      "  9    --  ABM   \n",
      " 10    --  AMS   \n",
      " 11    --  BS    \n",
      " 12    --  ABS   \n",
      " 13    --  BMS   \n",
      " 14    --  ABMS  \n",
      "\n",
      "Total Number of Reactions:  25\n",
      "Total Number of Species:  15\n",
      "\n",
      "{(0, 4): 0, (0, 5): 1, (0, 6): 2, (0, 9): 19, (0, 10): 20, (0, 12): 21, (0, 14): 24, (1, 4): 0, (1, 7): 3, (1, 8): 4, (1, 9): 5, (1, 10): 6, (1, 13): 22, (1, 14): 23, (2, 5): 1, (2, 7): 3, (2, 11): 7, (2, 9): 8, (2, 12): 9, (2, 13): 10, (2, 14): 11, (3, 6): 2, (3, 8): 4, (3, 11): 7, (3, 10): 12, (3, 12): 13, (3, 13): 14, (3, 14): 15, (4, 9): 8, (4, 10): 12, (4, 14): 16, (5, 9): 5, (5, 12): 13, (5, 14): 17, (6, 10): 6, (6, 12): 9, (6, 14): 18, (7, 13): 14, (7, 14): 18, (7, 9): 19, (8, 13): 10, (8, 14): 17, (8, 10): 20, (9, 14): 15, (10, 14): 11, (11, 14): 16, (11, 12): 21, (11, 13): 22, (12, 14): 23, (13, 14): 24}\n"
     ]
    }
   ],
   "source": [
    "uid_dict = {}\n",
    "sys.path.append(\"../../\")\n",
    "import numpy as np\n",
    "from reaction_network import gtostr\n",
    "\n",
    "nodes_list = []\n",
    "\n",
    "print(\"Species present in the Reaction Network: \")\n",
    "print(\"%3s  %2s  %2s\" %(\"Index\",\"--\",'Species'))\n",
    "for n in rn.network.nodes():\n",
    "    nodes_list.append(gtostr(rn.network.nodes[n]['struct']))\n",
    "    print(\"%3d  %4s  %-6s\" %(n,\"--\",gtostr(rn.network.nodes[n]['struct'])))\n",
    "    for k,v in rn.network[n].items():\n",
    "        uid = v['uid']\n",
    "        r1 = set(gtostr(rn.network.nodes[n]['struct']))\n",
    "        p = set(gtostr(rn.network.nodes[k]['struct']))\n",
    "        r2 = p-r1\n",
    "        reactants = (r1,r2)\n",
    "        uid_dict[(n,k)] = uid\n",
    "\n",
    "print()\n",
    "print(\"Total Number of Reactions: \",rn._rxn_count)\n",
    "print(\"Total Number of Species: \",len(rn.network.nodes()))\n",
    "        \n",
    "# Dictionary that stores source,destination of an edge and maps it to its unique id\n",
    "#Key : (First Reactant, Product)\n",
    "#Value : (Reaction_id)\n",
    "print()\n",
    "print(uid_dict)"
   ]
  },
  {
   "cell_type": "markdown",
   "id": "annoying-drive",
   "metadata": {},
   "source": [
    "## Set Initial conditions for the association rates\n",
    "The next step is to define the initial conditions for the simulation. The initial concentrations are specified from the input file. However, the initial value of the association rates can be specified either through the input file \n",
    "\n",
    "From the user_input file, currently the code only allows 1 value to be read (from default_assoc parameter).\n",
    "\n",
    "To set starting rates to different values the next code block takes in a list/array of all rxn rates and updates them in the reaction network object."
   ]
  },
  {
   "cell_type": "code",
   "execution_count": 4,
   "id": "2c7c027d",
   "metadata": {
    "scrolled": true
   },
   "outputs": [
    {
     "name": "stdout",
     "output_type": "stream",
     "text": [
      "Len of new_kon 25\n",
      "{'k_on': tensor(0.0300, dtype=torch.float64, grad_fn=<SelectBackward>), 'k_off': None, 'lcf': 1, 'rxn_score': tensor([-20.], dtype=torch.float64), 'uid': 0}\n",
      "{'k_on': tensor(0.0300, dtype=torch.float64, grad_fn=<SelectBackward>), 'k_off': None, 'lcf': 1, 'rxn_score': tensor([-20.], dtype=torch.float64), 'uid': 1}\n",
      "{'k_on': tensor(10., dtype=torch.float64, grad_fn=<SelectBackward>), 'k_off': None, 'lcf': 1, 'rxn_score': tensor([-20.], dtype=torch.float64), 'uid': 2}\n",
      "{'k_on': tensor(10., dtype=torch.float64, grad_fn=<SelectBackward>), 'k_off': None, 'lcf': 1, 'rxn_score': tensor([-40.], dtype=torch.float64), 'uid': 19}\n",
      "{'k_on': tensor(10., dtype=torch.float64, grad_fn=<SelectBackward>), 'k_off': None, 'lcf': 1, 'rxn_score': tensor([-40.], dtype=torch.float64), 'uid': 20}\n",
      "{'k_on': tensor(10., dtype=torch.float64, grad_fn=<SelectBackward>), 'k_off': None, 'lcf': 1, 'rxn_score': tensor([-40.], dtype=torch.float64), 'uid': 21}\n",
      "{'k_on': tensor(10., dtype=torch.float64, grad_fn=<SelectBackward>), 'k_off': None, 'lcf': 1, 'rxn_score': tensor([-60.], dtype=torch.float64), 'uid': 24}\n",
      "{'k_on': tensor(0.0300, dtype=torch.float64, grad_fn=<SelectBackward>), 'k_off': None, 'lcf': 1, 'rxn_score': tensor([-20.], dtype=torch.float64), 'uid': 0}\n",
      "{'k_on': tensor(0.0300, dtype=torch.float64, grad_fn=<SelectBackward>), 'k_off': None, 'lcf': 1, 'rxn_score': tensor([-20.], dtype=torch.float64), 'uid': 3}\n",
      "{'k_on': tensor(10., dtype=torch.float64, grad_fn=<SelectBackward>), 'k_off': None, 'lcf': 1, 'rxn_score': tensor([-20.], dtype=torch.float64), 'uid': 4}\n",
      "{'k_on': tensor(10., dtype=torch.float64, grad_fn=<SelectBackward>), 'k_off': None, 'lcf': 1, 'rxn_score': tensor([-40.], dtype=torch.float64), 'uid': 5}\n",
      "{'k_on': tensor(10., dtype=torch.float64, grad_fn=<SelectBackward>), 'k_off': None, 'lcf': 1, 'rxn_score': tensor([-40.], dtype=torch.float64), 'uid': 6}\n",
      "{'k_on': tensor(10., dtype=torch.float64, grad_fn=<SelectBackward>), 'k_off': None, 'lcf': 1, 'rxn_score': tensor([-40.], dtype=torch.float64), 'uid': 22}\n",
      "{'k_on': tensor(10., dtype=torch.float64, grad_fn=<SelectBackward>), 'k_off': None, 'lcf': 1, 'rxn_score': tensor([-60.], dtype=torch.float64), 'uid': 23}\n",
      "{'k_on': tensor(0.0300, dtype=torch.float64, grad_fn=<SelectBackward>), 'k_off': None, 'lcf': 1, 'rxn_score': tensor([-20.], dtype=torch.float64), 'uid': 1}\n",
      "{'k_on': tensor(0.0300, dtype=torch.float64, grad_fn=<SelectBackward>), 'k_off': None, 'lcf': 1, 'rxn_score': tensor([-20.], dtype=torch.float64), 'uid': 3}\n",
      "{'k_on': tensor(10., dtype=torch.float64, grad_fn=<SelectBackward>), 'k_off': None, 'lcf': 1, 'rxn_score': tensor([-20.], dtype=torch.float64), 'uid': 7}\n",
      "{'k_on': tensor(10., dtype=torch.float64, grad_fn=<SelectBackward>), 'k_off': None, 'lcf': 1, 'rxn_score': tensor([-40.], dtype=torch.float64), 'uid': 8}\n",
      "{'k_on': tensor(10., dtype=torch.float64, grad_fn=<SelectBackward>), 'k_off': None, 'lcf': 1, 'rxn_score': tensor([-40.], dtype=torch.float64), 'uid': 9}\n",
      "{'k_on': tensor(10., dtype=torch.float64, grad_fn=<SelectBackward>), 'k_off': None, 'lcf': 1, 'rxn_score': tensor([-40.], dtype=torch.float64), 'uid': 10}\n",
      "{'k_on': tensor(10., dtype=torch.float64, grad_fn=<SelectBackward>), 'k_off': None, 'lcf': 1, 'rxn_score': tensor([-60.], dtype=torch.float64), 'uid': 11}\n",
      "{'k_on': tensor(10., dtype=torch.float64, grad_fn=<SelectBackward>), 'k_off': None, 'lcf': 1, 'rxn_score': tensor([-20.], dtype=torch.float64), 'uid': 2}\n",
      "{'k_on': tensor(10., dtype=torch.float64, grad_fn=<SelectBackward>), 'k_off': None, 'lcf': 1, 'rxn_score': tensor([-20.], dtype=torch.float64), 'uid': 4}\n",
      "{'k_on': tensor(10., dtype=torch.float64, grad_fn=<SelectBackward>), 'k_off': None, 'lcf': 1, 'rxn_score': tensor([-20.], dtype=torch.float64), 'uid': 7}\n",
      "{'k_on': tensor(10., dtype=torch.float64, grad_fn=<SelectBackward>), 'k_off': None, 'lcf': 1, 'rxn_score': tensor([-40.], dtype=torch.float64), 'uid': 12}\n",
      "{'k_on': tensor(10., dtype=torch.float64, grad_fn=<SelectBackward>), 'k_off': None, 'lcf': 1, 'rxn_score': tensor([-40.], dtype=torch.float64), 'uid': 13}\n",
      "{'k_on': tensor(10., dtype=torch.float64, grad_fn=<SelectBackward>), 'k_off': None, 'lcf': 1, 'rxn_score': tensor([-40.], dtype=torch.float64), 'uid': 14}\n",
      "{'k_on': tensor(10., dtype=torch.float64, grad_fn=<SelectBackward>), 'k_off': None, 'lcf': 1, 'rxn_score': tensor([-60.], dtype=torch.float64), 'uid': 15}\n",
      "{'k_on': tensor(10., dtype=torch.float64, grad_fn=<SelectBackward>), 'k_off': None, 'lcf': 1, 'rxn_score': tensor([-40.], dtype=torch.float64), 'uid': 8}\n",
      "{'k_on': tensor(10., dtype=torch.float64, grad_fn=<SelectBackward>), 'k_off': None, 'lcf': 1, 'rxn_score': tensor([-40.], dtype=torch.float64), 'uid': 12}\n",
      "{'k_on': tensor(10., dtype=torch.float64, grad_fn=<SelectBackward>), 'k_off': None, 'lcf': 1, 'rxn_score': tensor([-80.], dtype=torch.float64), 'uid': 16}\n",
      "{'k_on': tensor(10., dtype=torch.float64, grad_fn=<SelectBackward>), 'k_off': None, 'lcf': 1, 'rxn_score': tensor([-40.], dtype=torch.float64), 'uid': 5}\n",
      "{'k_on': tensor(10., dtype=torch.float64, grad_fn=<SelectBackward>), 'k_off': None, 'lcf': 1, 'rxn_score': tensor([-40.], dtype=torch.float64), 'uid': 13}\n",
      "{'k_on': tensor(10., dtype=torch.float64, grad_fn=<SelectBackward>), 'k_off': None, 'lcf': 1, 'rxn_score': tensor([-80.], dtype=torch.float64), 'uid': 17}\n",
      "{'k_on': tensor(10., dtype=torch.float64, grad_fn=<SelectBackward>), 'k_off': None, 'lcf': 1, 'rxn_score': tensor([-40.], dtype=torch.float64), 'uid': 6}\n",
      "{'k_on': tensor(10., dtype=torch.float64, grad_fn=<SelectBackward>), 'k_off': None, 'lcf': 1, 'rxn_score': tensor([-40.], dtype=torch.float64), 'uid': 9}\n",
      "{'k_on': tensor(10., dtype=torch.float64, grad_fn=<SelectBackward>), 'k_off': None, 'lcf': 1, 'rxn_score': tensor([-80.], dtype=torch.float64), 'uid': 18}\n",
      "{'k_on': tensor(10., dtype=torch.float64, grad_fn=<SelectBackward>), 'k_off': None, 'lcf': 1, 'rxn_score': tensor([-40.], dtype=torch.float64), 'uid': 14}\n",
      "{'k_on': tensor(10., dtype=torch.float64, grad_fn=<SelectBackward>), 'k_off': None, 'lcf': 1, 'rxn_score': tensor([-80.], dtype=torch.float64), 'uid': 18}\n",
      "{'k_on': tensor(10., dtype=torch.float64, grad_fn=<SelectBackward>), 'k_off': None, 'lcf': 1, 'rxn_score': tensor([-40.], dtype=torch.float64), 'uid': 19}\n",
      "{'k_on': tensor(10., dtype=torch.float64, grad_fn=<SelectBackward>), 'k_off': None, 'lcf': 1, 'rxn_score': tensor([-40.], dtype=torch.float64), 'uid': 10}\n",
      "{'k_on': tensor(10., dtype=torch.float64, grad_fn=<SelectBackward>), 'k_off': None, 'lcf': 1, 'rxn_score': tensor([-80.], dtype=torch.float64), 'uid': 17}\n",
      "{'k_on': tensor(10., dtype=torch.float64, grad_fn=<SelectBackward>), 'k_off': None, 'lcf': 1, 'rxn_score': tensor([-40.], dtype=torch.float64), 'uid': 20}\n",
      "{'k_on': tensor(10., dtype=torch.float64, grad_fn=<SelectBackward>), 'k_off': None, 'lcf': 1, 'rxn_score': tensor([-60.], dtype=torch.float64), 'uid': 15}\n",
      "{'k_on': tensor(10., dtype=torch.float64, grad_fn=<SelectBackward>), 'k_off': None, 'lcf': 1, 'rxn_score': tensor([-60.], dtype=torch.float64), 'uid': 11}\n",
      "{'k_on': tensor(10., dtype=torch.float64, grad_fn=<SelectBackward>), 'k_off': None, 'lcf': 1, 'rxn_score': tensor([-80.], dtype=torch.float64), 'uid': 16}\n",
      "{'k_on': tensor(10., dtype=torch.float64, grad_fn=<SelectBackward>), 'k_off': None, 'lcf': 1, 'rxn_score': tensor([-40.], dtype=torch.float64), 'uid': 21}\n",
      "{'k_on': tensor(10., dtype=torch.float64, grad_fn=<SelectBackward>), 'k_off': None, 'lcf': 1, 'rxn_score': tensor([-40.], dtype=torch.float64), 'uid': 22}\n",
      "{'k_on': tensor(10., dtype=torch.float64, grad_fn=<SelectBackward>), 'k_off': None, 'lcf': 1, 'rxn_score': tensor([-60.], dtype=torch.float64), 'uid': 23}\n",
      "{'k_on': tensor(10., dtype=torch.float64, grad_fn=<SelectBackward>), 'k_off': None, 'lcf': 1, 'rxn_score': tensor([-60.], dtype=torch.float64), 'uid': 24}\n"
     ]
    }
   ],
   "source": [
    "#Define an empty torch tensor with length equal to number of reactions\n",
    "new_kon = torch.zeros([rn._rxn_count], requires_grad=True).double()\n",
    "\n",
    "\n",
    "'''Paste your optimal ratees from optimization notebook here'''\n",
    "init_val = [0.03, 0.03, 10, 0.03, 10, 10, 10,10,10,10,10,10,10,10,10,10,10,10,10,10,10,10,10,10,10,]\n",
    "new_kon = new_kon + Tensor(init_val)\n",
    "\n",
    "print(\"Len of new_kon\", len(new_kon))\n",
    "update_kon_dict = {}\n",
    "for edge in rn.network.edges:\n",
    "    update_kon_dict[edge] = new_kon[uid_dict[edge]]\n",
    "\n",
    "nx.set_edge_attributes(rn.network,update_kon_dict,'k_on')\n",
    "for edge in rn.network.edges:\n",
    "    print(rn.network.get_edge_data(edge[0],edge[1]))"
   ]
  },
  {
   "cell_type": "markdown",
   "id": "stunning-baking",
   "metadata": {},
   "source": [
    "## Define the VectorizedRxnNet class\n",
    "This takes the corresponding rxn network class as input and creates tensor arrays for all parameters values required for running a simulation.\n",
    "\n"
   ]
  },
  {
   "cell_type": "code",
   "execution_count": 5,
   "id": "e2031d1f",
   "metadata": {},
   "outputs": [
    {
     "name": "stdout",
     "output_type": "stream",
     "text": [
      "Reaction rates:  tensor([ 0.0300,  0.0300, 10.0000,  0.0300, 10.0000, 10.0000, 10.0000, 10.0000,\n",
      "        10.0000, 10.0000, 10.0000, 10.0000, 10.0000, 10.0000, 10.0000, 10.0000,\n",
      "        10.0000, 10.0000, 10.0000, 10.0000, 10.0000, 10.0000, 10.0000, 10.0000,\n",
      "        10.0000], dtype=torch.float64, grad_fn=<CopySlices>)\n",
      "dGs:  tensor([-20., -20., -20., -20., -20., -40., -40., -20., -40., -40., -40., -60.,\n",
      "        -40., -40., -40., -60., -80., -80., -80., -40., -40., -40., -40., -60.,\n",
      "        -60.], dtype=torch.float64)\n",
      "Species Concentrations:  tensor([100., 100., 100., 100.,   0.,   0.,   0.,   0.,   0.,   0.,   0.,   0.,\n",
      "          0.,   0.,   0.], dtype=torch.float64)\n",
      "Shifting to device:  cpu\n"
     ]
    }
   ],
   "source": [
    "vec_rn = VectorizedRxnNet(rn, dev='cpu')\n",
    "vec_rn.reset()"
   ]
  },
  {
   "cell_type": "markdown",
   "id": "damaged-sleeping",
   "metadata": {},
   "source": [
    "## Create the VecSim class to run a simulation\n",
    "Takes the VecRxnNet  object as input. The simulation runtime is set by the 'runtime' argument. (Units - sec)"
   ]
  },
  {
   "cell_type": "code",
   "execution_count": 6,
   "id": "independent-queens",
   "metadata": {},
   "outputs": [
    {
     "name": "stdout",
     "output_type": "stream",
     "text": [
      "Using CPU\n"
     ]
    }
   ],
   "source": [
    "runtime = 1e6 #Anything pat 1e9 takes forever on a regular computer, try smaller values first or optimize your reaction\n",
    "sim = VecSim(vec_rn, runtime, device='cpu')"
   ]
  },
  {
   "cell_type": "markdown",
   "id": "loving-gothic",
   "metadata": {},
   "source": [
    "# Run a Simulation\n",
    "### Input Parameters: \n",
    "conc_scale: Controls the conc step at each iteration. Since the numerical integration is not performed over fixed time steps but over fixed conc. steps. For e.g. for a value of 1uM, at each iteration step a total of app. 1uM is reacted (includes all species). Can be run using the default value. A general rule is use conc_scale = 0.01 * Max_yield\n",
    "\n",
    "conc_thresh: This can be used to periodically decrease the conc_scale parameter. After each iteration if the conc_scale is greater than the conc_thresh, then the conc_scale is decreased by mod_factor. Can be run using the default value. \n",
    "\n",
    "mod_bool: This argument is necessary to fix the mass balance criteria. Sometimes if the conc_scale is large, then the simulation can lead to a higher consumption of a particular species which is very low in conc, and create more of this species out of nothing. Default value:True\n",
    "\n",
    "verbose : Print output and progress of simulation\n",
    "\n",
    "yield_species : The species whose yield is to be tracked and returned to the optimzer. \n",
    "\n"
   ]
  },
  {
   "cell_type": "code",
   "execution_count": 7,
   "id": "living-probe",
   "metadata": {},
   "outputs": [
    {
     "name": "stdout",
     "output_type": "stream",
     "text": [
      "Start of simulation: memory Used:  65.6\n",
      "Final Conc Scale:  0.1\n",
      "Number of steps:  3012\n",
      "Next time larger than simulation runtime. Ending simulation.\n",
      "Memory Used:  65.9\n",
      "RAM Usage (GB):  9.12308120727539\n",
      "Final Yield:  tensor(1.0011, dtype=torch.float64, grad_fn=<DivBackward0>)\n"
     ]
    }
   ],
   "source": [
    "y = sim.simulate(conc_scale=1e-1,conc_thresh=1e-2,mod_bool=True,verbose=True)"
   ]
  },
  {
   "cell_type": "markdown",
   "id": "oriented-seventh",
   "metadata": {},
   "source": [
    "## Plot the conc. of all species vs time\n",
    "\n",
    "We can plot the concentration vs time data for all species. We can choose which species concentration is to be plotted using the nodes_list variable."
   ]
  },
  {
   "cell_type": "code",
   "execution_count": 8,
   "id": "92dcd1a2",
   "metadata": {
    "scrolled": true
   },
   "outputs": [
    {
     "data": {
      "image/png": "[encoded data removed]",
      "text/plain": [
       "<Figure size 640x480 with 1 Axes>"
      ]
     },
     "metadata": {},
     "output_type": "display_data"
    }
   ],
   "source": [
    "from matplotlib import pyplot as plt\n",
    "%matplotlib inline\n",
    "fig, ax = plt.subplots()\n",
    "\n",
    "sim.plot_observable(nodes_list, ax=ax,legend=False,seed=201,lw=5)\n",
    "ax.set_title(\"runtime: \" + str(runtime) + \" seconds\")\n",
    "handles,labels = ax.get_legend_handles_labels()\n",
    "ax.set_xscale(\"log\")\n",
    "fig.legend(handles,nodes_list,loc='upper center',fancybox=True,ncol=3,fontsize='small',markerscale=1.0)\n",
    "ax.grid(which=\"major\",axis=\"both\")"
   ]
  },
  {
   "cell_type": "markdown",
   "id": "strong-simpson",
   "metadata": {},
   "source": [
    "### The following code can be used to store the Conc vs Time data for the final complex\n",
    "\n",
    "It can also be modified to store data for all species"
   ]
  },
  {
   "cell_type": "code",
   "execution_count": 9,
   "id": "metric-waterproof",
   "metadata": {},
   "outputs": [],
   "source": [
    "def convert_time_interval(time,conc,time_int=0.1):\n",
    "    start_time=time[0]\n",
    "    time_array = []\n",
    "    conc_array = []\n",
    "    for i in range(len(time)):\n",
    "        new_time=time[i]\n",
    "        ts = new_time/start_time\n",
    "        if ts>=time_int:\n",
    "            time_array.append(time[i])\n",
    "            conc_array.append(conc[i])\n",
    "            start_time=new_time\n",
    "    return(time_array,conc_array)\n",
    "        \n",
    "    \n"
   ]
  },
  {
   "cell_type": "markdown",
   "id": "premier-nomination",
   "metadata": {},
   "source": [
    "Before storing, the data can be smoothened by selecting only a fixed separation of time intervals to store. Its useful in removing rougher area which can arise due to a high conc_scale parameter "
   ]
  },
  {
   "cell_type": "code",
   "execution_count": 10,
   "id": "finished-cosmetic",
   "metadata": {},
   "outputs": [],
   "source": [
    "time_arr = np.array(sim.steps)\n",
    "complx_conc = np.array(sim.observables[vec_rn.largest_complex][1])\n",
    "\n",
    "sel_time = (time_arr >= 1e-4)\n",
    "sel_indx = np.argwhere(sel_time)[0][0]\n",
    "\n",
    "filter_time,filter_conc = convert_time_interval(time_arr[sel_indx-1:],complx_conc[sel_indx-1:],time_int=1.05)\n",
    "final_time = np.concatenate((time_arr[:sel_indx],filter_time[:]))\n",
    "final_conc = np.concatenate((complx_conc[:sel_indx],filter_conc[:]))"
   ]
  },
  {
   "cell_type": "code",
   "execution_count": 11,
   "id": "16415489",
   "metadata": {
    "scrolled": true
   },
   "outputs": [],
   "source": [
    "with open(\"Conc_Profile_Trimer\",\"w\") as fl:\n",
    "    fl.write(\"#Timestep\\tConc\\n\")\n",
    "    for i in range(len(final_time)):\n",
    "        fl.write(\"%10.9f\\t%10.9f \\n\" %(final_time[i],final_conc[i]))\n",
    "        "
   ]
  },
  {
   "cell_type": "code",
   "execution_count": 12,
   "id": "7900ef03-f325-44ed-8ddf-33f12cd06b83",
   "metadata": {},
   "outputs": [
    {
     "name": "stdout",
     "output_type": "stream",
     "text": [
      "[0.00010501249605749893, 0.00011031337705443571, 0.00011607929948457917, 0.00012190553573664536, 0.00012821594409681837, 0.00013502591663243016, 0.0001419187604407476, 0.00014933491423649076, 0.00015684821660932812, 0.00016491150513851712, 0.00017354584581343952, 0.00018230939579165338, 0.00019167699124048704, 0.00020167439211716634, 0.0002118412988084544, 0.00022267889346904855, 0.00023421875043494114, 0.0002459789655638333, 0.000258492334130164, 0.00027179774974483035, 0.00028538810689517, 0.00029983430321374113, 0.0003151845997290206, 0.0003314919372334351, 0.0003482096149584085, 0.00036597369083920807, 0.00038485080086223455, 0.0004042580930222592, 0.0004248933742458898, 0.0004461454755477625, 0.00046875991750567686, 0.0004928355881790535, 0.0005177154159513059, 0.0005442335957560197, 0.0005716969415552807, 0.0006010096360794506, 0.0006314388635573737, 0.0006630496939678931, 0.0006968704208465147, 0.0007320982564075693, 0.0007688229269681735, 0.0008082301326309767, 0.0008494369650866329, 0.000892569640582367, 0.0009377664611211914, 0.0009851792965599512, 0.0010349752902971542, 0.0010873388289186084, 0.001142473824718906, 0.0012006063706595104, 0.001261987840644608, 0.0013250951480965902, 0.0013918316168063556, 0.001462519673310093, 0.0015375211050972623, 0.0016149610536631933, 0.0016972850913482584, 0.001782385973366367, 0.0018730413154969868, 0.001966874057489765, 0.0020670533665662167, 0.0021708874289305636, 0.0022820100216054866, 0.0023973603109591034, 0.002521127114429674, 0.002649814645868849, 0.002783494914553746, 0.0029273545885405336, 0.003077044903376079, 0.003232623649631193, 0.003400563645461946, 0.0035753967382198154, 0.003757144085179668, 0.003945761791840327, 0.004149972972484378, 0.00436217117215417, 0.004582197030334265, 0.004821073158734354, 0.005068996492007758, 0.005325599570318318, 0.00560488280315608, 0.0058940684864258455, 0.0061924275620692535, 0.0065178050805822915, 0.00685337035328035, 0.007197787565432468, 0.0075738278281366495, 0.007959133539647813, 0.008380730527571965, 0.008811695703423727, 0.009284199813813768, 0.009765644251220527, 0.010294416388230924, 0.0108308439344367, 0.011420808494807266, 0.012015814954303759, 0.01267074138552399, 0.013326109572660411, 0.014047527807470768, 0.014761924335942493, 0.015547590057621784, 0.01641575375167482, 0.01726773533967583, 0.01820743464019713, 0.019249140375275257, 0.020258025467904693, 0.021372811571733052, 0.022611107818404544, 0.023787154648050084, 0.025086630236929395, 0.026530059413406228, 0.02786099101848537, 0.02932732205607234, 0.030950846595967953, 0.032758307491379285, 0.034782887679856246, 0.03658653816478253, 0.038582042886099864, 0.04080179569183403, 0.04328593493696018, 0.04608481099390491, 0.04842839425276493, 0.051018276921837996, 0.053895577197590215, 0.05711114128731125, 0.06072861384387332, 0.0648287554461618, 0.06951564421164526, 0.07303191650021464, 0.07691981483588652, 0.08124200543705973, 0.08607620593870173, 0.09152003625095685, 0.0976978944503385, 0.10477092909313457, 0.11295188830773252, 0.12252791766135072, 0.13389684672340654, 0.14762749388901444, 0.15562742806160612, 0.16456532079208155, 0.17462212179215583, 0.1860302173931897, 0.1990937852963846, 0.21422000573544486, 0.23196879136785897, 0.25313579375079936, 0.2788991609375549, 0.31109872748009043, 0.3528210441965092, 0.40980125201803225, 0.4945294212486662, 0.6432078413863013, 1.0739685472822544, 792.5515580727684, 4476.978978505796, 9247.45884443713, 16021.190952338715, 27661.34036832268, 67733.2194646878, 2199175.4135952946]\n"
     ]
    }
   ],
   "source": [
    "print(filter_time)"
   ]
  },
  {
   "cell_type": "code",
   "execution_count": null,
   "id": "d1b7d293-4db7-4eb0-89c7-acf7c5f65715",
   "metadata": {},
   "outputs": [],
   "source": []
  }
 ],
 "metadata": {
  "kernelspec": {
   "display_name": "Python 3 (ipykernel)",
   "language": "python",
   "name": "python3"
  },
  "language_info": {
   "codemirror_mode": {
    "name": "ipython",
    "version": 3
   },
   "file_extension": ".py",
   "mimetype": "text/x-python",
   "name": "python",
   "nbconvert_exporter": "python",
   "pygments_lexer": "ipython3",
   "version": "3.7.0"
  }
 },
 "nbformat": 4,
 "nbformat_minor": 5
}
