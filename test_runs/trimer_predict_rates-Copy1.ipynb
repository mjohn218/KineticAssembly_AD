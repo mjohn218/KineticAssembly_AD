{
 "cells": [
  {
   "cell_type": "markdown",
   "metadata": {},
   "source": [
    "# Optimization Framework using auto-diff to predict binding rates\n"
   ]
  },
  {
   "cell_type": "markdown",
   "metadata": {},
   "source": [
    "## Import the necessary modules"
   ]
  },
  {
   "cell_type": "code",
   "execution_count": 1,
   "metadata": {
    "pycharm": {
     "name": "#%%\n"
    }
   },
   "outputs": [
    {
     "name": "stdout",
     "output_type": "stream",
     "text": [
      "EnergyExplorer Module is not available. Check Rosetta installation. <ipykernel.iostream.OutStream object at 0x7f660f5ff090>\n"
     ]
    }
   ],
   "source": [
    "# make sure jupyter path is correct for loading local moudules\n",
    "import sys\n",
    "# path to steric_simulator module relative to notebook\n",
    "sys.path.append(\"../../\")\n",
    "import copy\n",
    "from KineticAssembly_AD import ReactionNetwork, VectorizedRxnNet, VecSim, Optimizer, EquilibriumSolver\n",
    "import networkx as nx\n",
    "import torch\n",
    "from torch import DoubleTensor as Tensor"
   ]
  },
  {
   "cell_type": "markdown",
   "metadata": {},
   "source": [
    "## Setup Reaction Network\n",
    "#### Read the corresponding input file and call the ReactionNetwork class"
   ]
  },
  {
   "cell_type": "code",
   "execution_count": 2,
   "metadata": {
    "pycharm": {
     "name": "#%%\n"
    }
   },
   "outputs": [
    {
     "name": "stdout",
     "output_type": "stream",
     "text": [
      "['default_assoc', 1.0]\n",
      "['homo_rates', True]\n",
      "['A']\n",
      "100.0\n",
      "['B']\n",
      "100.0\n",
      "['C']\n",
      "100.0\n",
      "Parsing rule...\n",
      "Parsing rule...\n",
      "Parsing rule...\n",
      "New node added - Node index: 3 ; Node label: AB \n",
      "New node added - Node index: 4 ; Node label: AC \n",
      "Trying internal bonds\n",
      "New node added - Node index: 5 ; Node label: BC \n",
      "New node added - Node index: 6 ; Node label: ABC \n",
      "Trying internal bonds\n",
      "Trying internal bonds\n",
      "Trying internal bonds\n",
      "Trying internal bonds\n",
      "Trying internal bonds\n",
      "Trying internal bonds\n",
      "Reaction Network Completed\n"
     ]
    }
   ],
   "source": [
    "base_input = './trimer_homorates.pwr'\n",
    "rn = ReactionNetwork(base_input, one_step=True)\n",
    "rn.resolve_tree()\n"
   ]
  },
  {
   "cell_type": "markdown",
   "metadata": {},
   "source": [
    "## Checking reaction network\n",
    "Looping over all network nodes to check if all species are created\n",
    "Creating a dictionary for later reference. This dictionary holds the reactants as keys and values as the reaction index"
   ]
  },
  {
   "cell_type": "code",
   "execution_count": 3,
   "metadata": {},
   "outputs": [
    {
     "name": "stdout",
     "output_type": "stream",
     "text": [
      "0 -- A\n",
      "1 -- B\n",
      "2 -- C\n",
      "3 -- AB\n",
      "4 -- AC\n",
      "5 -- BC\n",
      "6 -- ABC\n",
      "{(0, 3): 0, (0, 4): 1, (0, 6): 5, (1, 3): 0, (1, 5): 2, (1, 6): 3, (2, 4): 1, (2, 5): 2, (2, 6): 4, (3, 6): 4, (4, 6): 3, (5, 6): 5}\n"
     ]
    }
   ],
   "source": [
    "uid_dict = {}\n",
    "sys.path.append(\"../\")\n",
    "import numpy as np\n",
    "from reaction_network import gtostr\n",
    "for n in rn.network.nodes():\n",
    "    print(n,\"--\",gtostr(rn.network.nodes[n]['struct']))\n",
    "    for k,v in rn.network[n].items():\n",
    "        uid = v['uid']\n",
    "        r1 = set(gtostr(rn.network.nodes[n]['struct']))\n",
    "        p = set(gtostr(rn.network.nodes[k]['struct']))\n",
    "        r2 = p-r1\n",
    "        reactants = (r1,r2)\n",
    "        uid_dict[(n,k)] = uid\n",
    "\n",
    "print(uid_dict)"
   ]
  },
  {
   "cell_type": "markdown",
   "metadata": {},
   "source": [
    "## Set the initial parameter values \n",
    "For a hetero-trimer there are 6 reaction rates.\n",
    "Also defines the Vectorized Rxn NEt class"
   ]
  },
  {
   "cell_type": "code",
   "execution_count": 4,
   "metadata": {},
   "outputs": [
    {
     "name": "stdout",
     "output_type": "stream",
     "text": [
      "{'k_on': tensor(1., dtype=torch.float64, grad_fn=<SelectBackward>), 'k_off': None, 'lcf': 1, 'rxn_score': tensor([-20.], dtype=torch.float64), 'uid': 0}\n",
      "{'k_on': tensor(1., dtype=torch.float64, grad_fn=<SelectBackward>), 'k_off': None, 'lcf': 1, 'rxn_score': tensor([-20.], dtype=torch.float64), 'uid': 1}\n",
      "{'k_on': tensor(1., dtype=torch.float64, grad_fn=<SelectBackward>), 'k_off': None, 'lcf': 1, 'rxn_score': tensor([-40.], dtype=torch.float64), 'uid': 5}\n",
      "{'k_on': tensor(1., dtype=torch.float64, grad_fn=<SelectBackward>), 'k_off': None, 'lcf': 1, 'rxn_score': tensor([-20.], dtype=torch.float64), 'uid': 0}\n",
      "{'k_on': tensor(1., dtype=torch.float64, grad_fn=<SelectBackward>), 'k_off': None, 'lcf': 1, 'rxn_score': tensor([-20.], dtype=torch.float64), 'uid': 2}\n",
      "{'k_on': tensor(1., dtype=torch.float64, grad_fn=<SelectBackward>), 'k_off': None, 'lcf': 1, 'rxn_score': tensor([-40.], dtype=torch.float64), 'uid': 3}\n",
      "{'k_on': tensor(1., dtype=torch.float64, grad_fn=<SelectBackward>), 'k_off': None, 'lcf': 1, 'rxn_score': tensor([-20.], dtype=torch.float64), 'uid': 1}\n",
      "{'k_on': tensor(1., dtype=torch.float64, grad_fn=<SelectBackward>), 'k_off': None, 'lcf': 1, 'rxn_score': tensor([-20.], dtype=torch.float64), 'uid': 2}\n",
      "{'k_on': tensor(1., dtype=torch.float64, grad_fn=<SelectBackward>), 'k_off': None, 'lcf': 1, 'rxn_score': tensor([-40.], dtype=torch.float64), 'uid': 4}\n",
      "{'k_on': tensor(1., dtype=torch.float64, grad_fn=<SelectBackward>), 'k_off': None, 'lcf': 1, 'rxn_score': tensor([-40.], dtype=torch.float64), 'uid': 4}\n",
      "{'k_on': tensor(1., dtype=torch.float64, grad_fn=<SelectBackward>), 'k_off': None, 'lcf': 1, 'rxn_score': tensor([-40.], dtype=torch.float64), 'uid': 3}\n",
      "{'k_on': tensor(1., dtype=torch.float64, grad_fn=<SelectBackward>), 'k_off': None, 'lcf': 1, 'rxn_score': tensor([-40.], dtype=torch.float64), 'uid': 5}\n",
      "(0, 1)\n",
      "(0, 2)\n",
      "(1, 2)\n",
      "(2, 3)\n",
      "(1, 4)\n",
      "(0, 5)\n",
      "Stoichiometric Matrix:  tensor([[-1., -1.,  0.,  0.,  0., -1.,  1.,  1., -0., -0., -0.,  1.],\n",
      "        [-1.,  0., -1., -1.,  0.,  0.,  1., -0.,  1.,  1., -0., -0.],\n",
      "        [ 0., -1., -1.,  0., -1.,  0., -0.,  1.,  1., -0.,  1., -0.],\n",
      "        [ 1.,  0.,  0.,  0., -1.,  0., -1., -0., -0., -0.,  1., -0.],\n",
      "        [ 0.,  1.,  0., -1.,  0.,  0., -0., -1., -0.,  1., -0., -0.],\n",
      "        [ 0.,  0.,  1.,  0.,  0., -1., -0., -0., -1., -0., -0.,  1.],\n",
      "        [ 0.,  0.,  0.,  1.,  1.,  1., -0., -0., -0., -1., -1., -1.]],\n",
      "       dtype=torch.float64)\n",
      "Reaction rates:  tensor([1., 1., 1., 1., 1., 1.], dtype=torch.float64, grad_fn=<CopySlices>)\n",
      "dGs:  tensor([-20., -20., -20., -40., -40., -40.], dtype=torch.float64)\n",
      "Species Concentrations:  tensor([100., 100., 100.,   0.,   0.,   0.,   0.], dtype=torch.float64)\n",
      "Shifting to device:  cpu\n",
      "tensor([1., 1., 1., 1., 1., 1.], dtype=torch.float64, grad_fn=<CopySlices>)\n"
     ]
    }
   ],
   "source": [
    "new_kon = torch.zeros([rn._rxn_count], requires_grad=True).double()\n",
    "new_kon = new_kon + Tensor([1])\n",
    "\n",
    "update_kon_dict = {}\n",
    "for edge in rn.network.edges:\n",
    "    update_kon_dict[edge] = new_kon[uid_dict[edge]]\n",
    "\n",
    "nx.set_edge_attributes(rn.network,update_kon_dict,'k_on')\n",
    "for edge in rn.network.edges:\n",
    "    print(rn.network.get_edge_data(edge[0],edge[1]))\n",
    "\n",
    "\n",
    "vec_rn = VectorizedRxnNet(rn, dev='cpu')\n",
    "print(vec_rn.kon)"
   ]
  },
  {
   "cell_type": "code",
   "execution_count": 5,
   "metadata": {},
   "outputs": [
    {
     "name": "stdout",
     "output_type": "stream",
     "text": [
      "A\n",
      "B\n",
      "C\n",
      "AB\n",
      "AC\n",
      "BC\n",
      "ABC\n",
      "tensor(1., dtype=torch.float64, grad_fn=<SelectBackward>)\n",
      "{'reactants': ({'A'}, {'B'}), 'kon': tensor(1., dtype=torch.float64, grad_fn=<SelectBackward>), 'score': tensor([-20.], dtype=torch.float64), 'koff': None, 'uid': 0}\n",
      "tensor(1., dtype=torch.float64, grad_fn=<SelectBackward>)\n",
      "{'reactants': ({'A'}, {'C'}), 'kon': tensor(1., dtype=torch.float64, grad_fn=<SelectBackward>), 'score': tensor([-20.], dtype=torch.float64), 'koff': None, 'uid': 1}\n",
      "tensor(1., dtype=torch.float64, grad_fn=<SelectBackward>)\n",
      "{'reactants': ({'B'}, {'C'}), 'kon': tensor(1., dtype=torch.float64, grad_fn=<SelectBackward>), 'score': tensor([-20.], dtype=torch.float64), 'koff': None, 'uid': 2}\n",
      "tensor(1., dtype=torch.float64, grad_fn=<SelectBackward>)\n",
      "{'reactants': ({'B'}, {'A', 'C'}), 'kon': tensor(1., dtype=torch.float64, grad_fn=<SelectBackward>), 'score': tensor([-40.], dtype=torch.float64), 'koff': None, 'uid': 3}\n",
      "tensor(1., dtype=torch.float64, grad_fn=<SelectBackward>)\n",
      "{'reactants': ({'C'}, {'B', 'A'}), 'kon': tensor(1., dtype=torch.float64, grad_fn=<SelectBackward>), 'score': tensor([-40.], dtype=torch.float64), 'koff': None, 'uid': 4}\n",
      "tensor(1., dtype=torch.float64, grad_fn=<SelectBackward>)\n",
      "{'reactants': ({'A'}, {'B', 'C'}), 'kon': tensor(1., dtype=torch.float64, grad_fn=<SelectBackward>), 'score': tensor([-40.], dtype=torch.float64), 'koff': None, 'uid': 5}\n"
     ]
    }
   ],
   "source": [
    "uid_dict = {}\n",
    "sys.path.append(\"../\")\n",
    "import numpy as np\n",
    "from reaction_network import gtostr\n",
    "for n in rn.network.nodes():\n",
    "    #print(n)\n",
    "    #print(rn.network.nodes()[n])\n",
    "    for k,v in rn.network[n].items():\n",
    "        uid = v['uid']\n",
    "        r1 = set(gtostr(rn.network.nodes[n]['struct']))\n",
    "        p = set(gtostr(rn.network.nodes[k]['struct']))\n",
    "        r2 = p-r1\n",
    "        reactants = (r1,r2)\n",
    "        uid_val = {'reactants':reactants,'kon':v['k_on'],'score':v['rxn_score'],'koff':v['k_off'],'uid':uid}\n",
    "        if uid not in uid_dict.keys():\n",
    "            uid_dict[uid] = uid_val\n",
    "    print(gtostr(rn.network.nodes[n]['struct']))\n",
    "    #for r_set in rn.get_reactant_sets(n):\n",
    "    #    print(tuple(r_set))\n",
    "    #print(rn.network[n]['struct'])\n",
    "ind_sort = np.argsort(vec_rn.kon.detach().numpy())\n",
    "for i in ind_sort:\n",
    "    print(vec_rn.kon[i])\n",
    "    print(uid_dict[i])"
   ]
  },
  {
   "cell_type": "markdown",
   "metadata": {
    "pycharm": {
     "name": "#%% md\n"
    }
   },
   "source": [
    "## Using the optimizer ##\n",
    "\n",
    "### Define an instance of the optimizer class\n",
    "#### Input Arguments:\n",
    "\n",
    "reaction_network : Input the vectorized rxn network\n",
    "\n",
    "sim_runtime: The runtime of the kinetic simulation. Needs to be same as the time over the experimental reaction data.\n",
    "\n",
    "optim_iterations: No. of iterations to run the optimization. Can start at low values(100) and increase depending upon memory usage.\n",
    "\n",
    "learning_rate = The size of the gradient descent step for updating parameter values. Needs to be atleast (1e-3-1e-1)* min{parameter value}. If learning rate is too high, it can take a longer step and sometimes lead to negative value of parameters which is unphysical. Requires some trial runs to find the best value. \n",
    "\n",
    "device: cpu or gpu\n",
    "\n",
    "method: Choose which pytorch based optimized to use for gradient descent - Adam or RMSprop\n",
    "\n",
    "mom: Only for RMSprop method. Use momentum term during gradient descent. \n"
   ]
  },
  {
   "cell_type": "code",
   "execution_count": 6,
   "metadata": {
    "pycharm": {
     "name": "#%%\n"
    },
    "scrolled": true
   },
   "outputs": [],
   "source": [
    "vec_rn.reset(reset_params=True)\n",
    "optim = Optimizer(reaction_network=vec_rn,\n",
    "                  sim_runtime=1,\n",
    "                  optim_iterations=100,\n",
    "                  learning_rate=1e-2,\n",
    "                  device='cpu',method=\"RMSprop\")\n"
   ]
  },
  {
   "cell_type": "markdown",
   "metadata": {},
   "source": [
    "### Call the optimization method\n",
    "\n",
    "#### Input arguments\n",
    "\n",
    "conc_scale, conc_thresh, mod_bool, mod_factor = As defined for the VecSim class. \n",
    "\n",
    "max_thresh: Max. allowed values of parameters being updated. Beyond this maximum a penalty is imposed on the cost function. (Regularization)\n",
    "\n",
    "max_yield: It is a control variable that is used to store the updated parameter values over all iterations for further analysis. The parameter values are stored only if the current yield exceed this max_yield. \n",
    "\n",
    "yield_species: Yield of the species being optimized(node index)"
   ]
  },
  {
   "cell_type": "code",
   "execution_count": 7,
   "metadata": {},
   "outputs": [
    {
     "name": "stdout",
     "output_type": "stream",
     "text": [
      "Reaction Parameters before optimization: \n",
      "[Parameter containing:\n",
      "tensor([1., 1.], dtype=torch.float64, requires_grad=True)]\n",
      "Optimizer State: <bound method Optimizer.state_dict of RMSprop (\n",
      "Parameter Group 0\n",
      "    alpha: 0.99\n",
      "    centered: False\n",
      "    eps: 1e-08\n",
      "    lr: 0.01\n",
      "    momentum: 0\n",
      "    weight_decay: 0\n",
      ")>\n",
      "Yield on sim. iteration 0 was 67.4%.\n",
      "current params: tensor([1., 1.], dtype=torch.float64)\n",
      "Yield on sim. iteration 1 was 72.5%.\n",
      "current params: tensor([0.9000, 1.1000], dtype=torch.float64)\n",
      "Yield on sim. iteration 2 was 76.4%.\n",
      "current params: tensor([0.8218, 1.1715], dtype=torch.float64)\n",
      "Yield on sim. iteration 3 was 79.5%.\n",
      "current params: tensor([0.7590, 1.2248], dtype=torch.float64)\n",
      "Yield on sim. iteration 4 was 82.8%.\n",
      "current params: tensor([0.6919, 1.2807], dtype=torch.float64)\n",
      "Yield on sim. iteration 5 was 86.7%.\n",
      "current params: tensor([0.6144, 1.3470], dtype=torch.float64)\n",
      "Yield on sim. iteration 6 was 87.7%.\n",
      "current params: tensor([0.5943, 1.3620], dtype=torch.float64)\n",
      "Yield on sim. iteration 7 was 90.4%.\n",
      "current params: tensor([0.5385, 1.4045], dtype=torch.float64)\n",
      "Yield on sim. iteration 8 was 92.3%.\n",
      "current params: tensor([0.4969, 1.4339], dtype=torch.float64)\n",
      "Yield on sim. iteration 9 was 94.0%.\n",
      "current params: tensor([0.4584, 1.4595], dtype=torch.float64)\n",
      "Yield on sim. iteration 10 was 95.6%.\n",
      "current params: tensor([0.4186, 1.4849], dtype=torch.float64)\n",
      "Yield on sim. iteration 11 was 96.3%.\n",
      "current params: tensor([0.3977, 1.4971], dtype=torch.float64)\n",
      "Yield on sim. iteration 12 was 96.9%.\n",
      "current params: tensor([0.3759, 1.5094], dtype=torch.float64)\n",
      "Yield on sim. iteration 13 was 97.4%.\n",
      "current params: tensor([0.3530, 1.5216], dtype=torch.float64)\n",
      "Yield on sim. iteration 14 was 97.9%.\n",
      "current params: tensor([0.3289, 1.5339], dtype=torch.float64)\n",
      "Yield on sim. iteration 15 was 98.1%.\n",
      "current params: tensor([0.3033, 1.5462], dtype=torch.float64)\n",
      "Yield on sim. iteration 16 was 98.3%.\n",
      "current params: tensor([0.2762, 1.5586], dtype=torch.float64)\n",
      "Yield on sim. iteration 17 was 98.3%.\n",
      "current params: tensor([0.2470, 1.5709], dtype=torch.float64)\n",
      "Yield on sim. iteration 18 was 98.2%.\n",
      "current params: tensor([0.2154, 1.5834], dtype=torch.float64)\n",
      "Yield on sim. iteration 19 was 97.9%.\n",
      "current params: tensor([0.1807, 1.5959], dtype=torch.float64)\n",
      "Yield on sim. iteration 20 was 97.5%.\n",
      "current params: tensor([0.1418, 1.6084], dtype=torch.float64)\n",
      "Yield on sim. iteration 21 was 96.5%.\n",
      "current params: tensor([0.0966, 1.6210], dtype=torch.float64)\n",
      "Yield on sim. iteration 22 was 97.7%.\n",
      "current params: tensor([0.1559, 1.6335], dtype=torch.float64)\n",
      "Yield on sim. iteration 23 was 97.1%.\n",
      "current params: tensor([0.1243, 1.6457], dtype=torch.float64)\n",
      "Yield on sim. iteration 24 was 96.1%.\n",
      "current params: tensor([0.0870, 1.6580], dtype=torch.float64)\n",
      "Yield on sim. iteration 25 was 97.3%.\n",
      "current params: tensor([0.1300, 1.6701], dtype=torch.float64)\n",
      "Yield on sim. iteration 26 was 96.5%.\n",
      "current params: tensor([0.0991, 1.6821], dtype=torch.float64)\n",
      "Yield on sim. iteration 27 was 97.5%.\n",
      "current params: tensor([0.1416, 1.6940], dtype=torch.float64)\n",
      "Yield on sim. iteration 28 was 97.0%.\n",
      "current params: tensor([0.1165, 1.7058], dtype=torch.float64)\n",
      "Yield on sim. iteration 29 was 96.1%.\n",
      "current params: tensor([0.0871, 1.7175], dtype=torch.float64)\n",
      "Yield on sim. iteration 30 was 97.1%.\n",
      "current params: tensor([0.1203, 1.7291], dtype=torch.float64)\n",
      "Yield on sim. iteration 31 was 96.4%.\n",
      "current params: tensor([0.0941, 1.7406], dtype=torch.float64)\n",
      "Yield on sim. iteration 32 was 97.2%.\n",
      "current params: tensor([0.1271, 1.7520], dtype=torch.float64)\n",
      "Yield on sim. iteration 33 was 96.7%.\n",
      "current params: tensor([0.1041, 1.7633], dtype=torch.float64)\n",
      "Yield on sim. iteration 34 was 95.7%.\n",
      "current params: tensor([0.0768, 1.7746], dtype=torch.float64)\n",
      "Yield on sim. iteration 35 was 96.6%.\n",
      "current params: tensor([0.1008, 1.7857], dtype=torch.float64)\n",
      "Yield on sim. iteration 36 was 95.5%.\n",
      "current params: tensor([0.0741, 1.7968], dtype=torch.float64)\n",
      "Yield on sim. iteration 37 was 96.5%.\n",
      "current params: tensor([0.0957, 1.8077], dtype=torch.float64)\n",
      "Yield on sim. iteration 38 was 97.2%.\n",
      "current params: tensor([0.1240, 1.8187], dtype=torch.float64)\n",
      "Yield on sim. iteration 39 was 96.7%.\n",
      "current params: tensor([0.1039, 1.8295], dtype=torch.float64)\n",
      "Yield on sim. iteration 40 was 95.8%.\n",
      "current params: tensor([0.0804, 1.8403], dtype=torch.float64)\n",
      "Yield on sim. iteration 41 was 96.7%.\n",
      "current params: tensor([0.1024, 1.8510], dtype=torch.float64)\n",
      "Yield on sim. iteration 42 was 95.8%.\n",
      "current params: tensor([0.0796, 1.8617], dtype=torch.float64)\n",
      "Yield on sim. iteration 43 was 96.6%.\n",
      "current params: tensor([0.1005, 1.8722], dtype=torch.float64)\n",
      "Yield on sim. iteration 44 was 95.7%.\n",
      "current params: tensor([0.0780, 1.8828], dtype=torch.float64)\n",
      "Yield on sim. iteration 45 was 96.5%.\n",
      "current params: tensor([0.0976, 1.8932], dtype=torch.float64)\n",
      "Yield on sim. iteration 46 was 97.2%.\n",
      "current params: tensor([0.1222, 1.9036], dtype=torch.float64)\n",
      "Yield on sim. iteration 47 was 96.7%.\n",
      "current params: tensor([0.1046, 1.9139], dtype=torch.float64)\n",
      "Yield on sim. iteration 48 was 96.0%.\n",
      "current params: tensor([0.0845, 1.9242], dtype=torch.float64)\n",
      "Yield on sim. iteration 49 was 96.7%.\n",
      "current params: tensor([0.1047, 1.9344], dtype=torch.float64)\n",
      "Yield on sim. iteration 50 was 96.0%.\n",
      "current params: tensor([0.0852, 1.9446], dtype=torch.float64)\n",
      "Yield on sim. iteration 51 was 96.7%.\n",
      "current params: tensor([0.1051, 1.9547], dtype=torch.float64)\n",
      "Yield on sim. iteration 52 was 96.1%.\n",
      "current params: tensor([0.0861, 1.9648], dtype=torch.float64)\n",
      "Yield on sim. iteration 53 was 96.8%.\n",
      "current params: tensor([0.1057, 1.9748], dtype=torch.float64)\n",
      "Yield on sim. iteration 54 was 96.1%.\n",
      "current params: tensor([0.0874, 1.9847], dtype=torch.float64)\n",
      "Yield on sim. iteration 55 was 96.8%.\n",
      "current params: tensor([0.1068, 1.9946], dtype=torch.float64)\n",
      "Yield on sim. iteration 56 was 96.2%.\n",
      "current params: tensor([0.0890, 2.0045], dtype=torch.float64)\n",
      "Yield on sim. iteration 57 was 96.8%.\n",
      "current params: tensor([0.1083, 2.0143], dtype=torch.float64)\n",
      "Yield on sim. iteration 58 was 96.3%.\n",
      "current params: tensor([0.0913, 2.0241], dtype=torch.float64)\n",
      "Yield on sim. iteration 59 was 96.9%.\n",
      "current params: tensor([0.1106, 2.0339], dtype=torch.float64)\n",
      "Yield on sim. iteration 60 was 96.4%.\n",
      "current params: tensor([0.0943, 2.0436], dtype=torch.float64)\n",
      "Yield on sim. iteration 61 was 97.0%.\n",
      "current params: tensor([0.1138, 2.0532], dtype=torch.float64)\n",
      "Yield on sim. iteration 62 was 96.5%.\n",
      "current params: tensor([0.0983, 2.0628], dtype=torch.float64)\n",
      "Yield on sim. iteration 63 was 97.1%.\n",
      "current params: tensor([0.1181, 2.0724], dtype=torch.float64)\n",
      "Yield on sim. iteration 64 was 96.7%.\n",
      "current params: tensor([0.1034, 2.0820], dtype=torch.float64)\n",
      "Yield on sim. iteration 65 was 96.2%.\n",
      "current params: tensor([0.0868, 2.0915], dtype=torch.float64)\n",
      "Yield on sim. iteration 66 was 96.7%.\n",
      "current params: tensor([0.1039, 2.1009], dtype=torch.float64)\n",
      "Yield on sim. iteration 67 was 96.2%.\n",
      "current params: tensor([0.0877, 2.1103], dtype=torch.float64)\n",
      "Yield on sim. iteration 68 was 96.7%.\n",
      "current params: tensor([0.1046, 2.1197], dtype=torch.float64)\n",
      "Yield on sim. iteration 69 was 96.2%.\n",
      "current params: tensor([0.0887, 2.1291], dtype=torch.float64)\n",
      "Yield on sim. iteration 70 was 96.7%.\n",
      "current params: tensor([0.1056, 2.1384], dtype=torch.float64)\n",
      "Yield on sim. iteration 71 was 96.3%.\n",
      "current params: tensor([0.0902, 2.1477], dtype=torch.float64)\n",
      "Yield on sim. iteration 72 was 96.8%.\n",
      "current params: tensor([0.1071, 2.1569], dtype=torch.float64)\n",
      "Yield on sim. iteration 73 was 96.4%.\n",
      "current params: tensor([0.0921, 2.1661], dtype=torch.float64)\n",
      "Yield on sim. iteration 74 was 96.9%.\n",
      "current params: tensor([0.1091, 2.1753], dtype=torch.float64)\n",
      "Yield on sim. iteration 75 was 96.4%.\n",
      "current params: tensor([0.0946, 2.1845], dtype=torch.float64)\n",
      "Yield on sim. iteration 76 was 97.0%.\n",
      "current params: tensor([0.1117, 2.1936], dtype=torch.float64)\n",
      "Yield on sim. iteration 77 was 96.6%.\n",
      "current params: tensor([0.0978, 2.2027], dtype=torch.float64)\n",
      "Yield on sim. iteration 78 was 97.0%.\n",
      "current params: tensor([0.1152, 2.2118], dtype=torch.float64)\n",
      "Yield on sim. iteration 79 was 96.7%.\n",
      "current params: tensor([0.1018, 2.2209], dtype=torch.float64)\n"
     ]
    },
    {
     "name": "stdout",
     "output_type": "stream",
     "text": [
      "Yield on sim. iteration 80 was 96.2%.\n",
      "current params: tensor([0.0868, 2.2299], dtype=torch.float64)\n",
      "Yield on sim. iteration 81 was 96.7%.\n",
      "current params: tensor([0.1021, 2.2389], dtype=torch.float64)\n",
      "Yield on sim. iteration 82 was 96.2%.\n",
      "current params: tensor([0.0873, 2.2478], dtype=torch.float64)\n",
      "Yield on sim. iteration 83 was 96.7%.\n",
      "current params: tensor([0.1024, 2.2567], dtype=torch.float64)\n",
      "Yield on sim. iteration 84 was 96.2%.\n",
      "current params: tensor([0.0878, 2.2657], dtype=torch.float64)\n",
      "Yield on sim. iteration 85 was 96.7%.\n",
      "current params: tensor([0.1028, 2.2745], dtype=torch.float64)\n",
      "Yield on sim. iteration 86 was 96.2%.\n",
      "current params: tensor([0.0885, 2.2834], dtype=torch.float64)\n",
      "Yield on sim. iteration 87 was 96.7%.\n",
      "current params: tensor([0.1034, 2.2922], dtype=torch.float64)\n",
      "Yield on sim. iteration 88 was 96.2%.\n",
      "current params: tensor([0.0894, 2.3010], dtype=torch.float64)\n",
      "Yield on sim. iteration 89 was 96.8%.\n",
      "current params: tensor([0.1043, 2.3098], dtype=torch.float64)\n",
      "Yield on sim. iteration 90 was 96.3%.\n",
      "current params: tensor([0.0905, 2.3186], dtype=torch.float64)\n",
      "Yield on sim. iteration 91 was 96.8%.\n",
      "current params: tensor([0.1055, 2.3273], dtype=torch.float64)\n",
      "Yield on sim. iteration 92 was 96.3%.\n",
      "current params: tensor([0.0919, 2.3361], dtype=torch.float64)\n",
      "Yield on sim. iteration 93 was 96.8%.\n",
      "current params: tensor([0.1070, 2.3448], dtype=torch.float64)\n",
      "Yield on sim. iteration 94 was 96.4%.\n",
      "current params: tensor([0.0938, 2.3534], dtype=torch.float64)\n",
      "Yield on sim. iteration 95 was 96.9%.\n",
      "current params: tensor([0.1090, 2.3621], dtype=torch.float64)\n",
      "Yield on sim. iteration 96 was 96.5%.\n",
      "current params: tensor([0.0962, 2.3708], dtype=torch.float64)\n",
      "Yield on sim. iteration 97 was 96.9%.\n",
      "current params: tensor([0.1116, 2.3794], dtype=torch.float64)\n",
      "Yield on sim. iteration 98 was 96.6%.\n",
      "current params: tensor([0.0992, 2.3880], dtype=torch.float64)\n",
      "Yield on sim. iteration 99 was 97.0%.\n",
      "optimization complete\n",
      "Final params: tensor([0.0992, 2.3880], dtype=torch.float64)\n"
     ]
    },
    {
     "data": {
      "text/plain": [
       "<KineticAssembly_AD.vectorized_rxn_net.VectorizedRxnNet at 0x7f653794c850>"
      ]
     },
     "execution_count": 7,
     "metadata": {},
     "output_type": "execute_result"
    }
   ],
   "source": [
    "optim.rn.update_reaction_net(rn)\n",
    "optim.optimize(conc_scale=1e-1,conc_thresh=1e-1,mod_bool=True,mod_factor=10,max_thresh=1e8,max_yield=0,yield_species=-1)"
   ]
  },
  {
   "cell_type": "markdown",
   "metadata": {},
   "source": [
    "## Track the yield over optim iterations"
   ]
  },
  {
   "cell_type": "code",
   "execution_count": 8,
   "metadata": {},
   "outputs": [
    {
     "data": {
      "image/png": "[encoded data removed]",
      "text/plain": [
       "<Figure size 432x288 with 1 Axes>"
      ]
     },
     "metadata": {
      "needs_background": "light"
     },
     "output_type": "display_data"
    }
   ],
   "source": [
    "optim.plot_yield()"
   ]
  },
  {
   "cell_type": "markdown",
   "metadata": {},
   "source": [
    "## Get all the parameter values\n",
    "\n",
    "### This can be stored in a file for later analysis or used to find the best parameter value depending upon a condition. For e.g. the values that give a minimum error."
   ]
  },
  {
   "cell_type": "code",
   "execution_count": 9,
   "metadata": {},
   "outputs": [],
   "source": [
    "yields= []\n",
    "final_params=[]\n",
    "\n",
    "final_t50 = []\n",
    "final_t85 = []\n",
    "final_t95 = []\n",
    "final_t99 = []\n",
    "\n",
    "for i in range(len(optim.final_yields)):\n",
    "    yields.append(optim.final_yields[i].item())\n",
    "    final_params.append(optim.final_solns[i].numpy())\n",
    "    \n",
    "    #Storing the different time points it reaches a particular yield threshold\n",
    "    if type(optim.final_t85[i])==int:\n",
    "        final_t85.append(1) \n",
    "    else:\n",
    "        final_t85.append(optim.final_t85[i].item()) \n",
    "    if type(optim.final_t95[i])==int:\n",
    "        final_t95.append(1)\n",
    "    else:\n",
    "        final_t95.append(optim.final_t95[i].item())\n",
    "\n",
    "\n",
    "final_yield_arr = np.array(yields)\n",
    "final_param_arr = np.array(final_params)\n",
    "final_t85 = np.array(final_t85)\n",
    "final_t95 = np.array(final_t95)"
   ]
  },
  {
   "cell_type": "markdown",
   "metadata": {},
   "source": [
    "### Plotting the ratio of ktri vs kdim"
   ]
  },
  {
   "cell_type": "code",
   "execution_count": 18,
   "metadata": {
    "scrolled": true
   },
   "outputs": [
    {
     "data": {
      "image/png": "[encoded data removed]",
      "text/plain": [
       "<Figure size 576x432 with 1 Axes>"
      ]
     },
     "metadata": {
      "needs_background": "light"
     },
     "output_type": "display_data"
    }
   ],
   "source": [
    "import matplotlib.pyplot as plt\n",
    "\n",
    "mask_r = final_yield_arr > 0.5\n",
    "\n",
    "#Calculate the ratio\n",
    "ratio = final_param_arr[:,1]/final_param_arr[:,0]\n",
    "\n",
    "#Normalize the time scale (t = t*conc*max_rate)\n",
    "conc=vec_rn.initial_copies[0].item()\n",
    "scale_time = final_t95[mask_r]*conc*np.max(final_param_arr[mask_r],axis=1)\n",
    "#Calculate the y_per_time\n",
    "y_per_time = 0.95/scale_time\n",
    "\n",
    "fig,ax = plt.subplots(figsize=(8,6))\n",
    "ax.plot(ratio,y_per_time,linestyle='',marker='o')\n",
    "ax.set_ylabel(\"Efficiency\",fontsize=20)\n",
    "ax.set_xlabel(\"Ratio\",fontsize=20)\n",
    "ax.tick_params(labelsize=25)\n"
   ]
  },
  {
   "cell_type": "code",
   "execution_count": 19,
   "metadata": {},
   "outputs": [
    {
     "name": "stdout",
     "output_type": "stream",
     "text": [
      "Ratio with maximum efficiency:  5.64353839875733\n"
     ]
    }
   ],
   "source": [
    "min_indx = np.argmax(y_per_time)\n",
    "print(\"Ratio with maximum efficiency: \",ratio[min_indx])"
   ]
  }
 ],
 "metadata": {
  "kernelspec": {
   "display_name": "Python 3",
   "language": "python",
   "name": "python3"
  },
  "language_info": {
   "codemirror_mode": {
    "name": "ipython",
    "version": 3
   },
   "file_extension": ".py",
   "mimetype": "text/x-python",
   "name": "python",
   "nbconvert_exporter": "python",
   "pygments_lexer": "ipython3",
   "version": "3.7.9"
  }
 },
 "nbformat": 4,
 "nbformat_minor": 1
}
